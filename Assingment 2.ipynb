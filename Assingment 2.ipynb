{
 "cells": [
  {
   "cell_type": "code",
   "execution_count": 1,
   "id": "8b603ca7",
   "metadata": {},
   "outputs": [],
   "source": [
    "# Importing the required libraries:\n",
    "import pandas as pd\n",
    "import numpy as np\n",
    "import warnings\n",
    "warnings.filterwarnings('ignore')"
   ]
  },
  {
   "cell_type": "code",
   "execution_count": 2,
   "id": "bc2db5c9",
   "metadata": {},
   "outputs": [],
   "source": [
    "# Importing the flipkart dataset and storing it in a dataframe:\n",
    "flipkart_df = pd.read_csv(r'D:\\Company Assingments\\Shack Labs\\Assignment 2\\flipkart_com-ecommerce_sample.csv')"
   ]
  },
  {
   "cell_type": "code",
   "execution_count": 3,
   "id": "e763603a",
   "metadata": {},
   "outputs": [],
   "source": [
    "# Importing the amazon dataset and storing it in a dataframe:\n",
    "amazon_df = pd.read_csv(r'D:\\Company Assingments\\Shack Labs\\Assignment 2\\amz_com-ecommerce_sample.csv',encoding='ISO-8859-1')"
   ]
  },
  {
   "cell_type": "code",
   "execution_count": 4,
   "id": "4ff6e65e",
   "metadata": {},
   "outputs": [],
   "source": [
    "def df_contcat(X,Y):\n",
    "    if(X == 1):\n",
    "        col = 'uniq_id'\n",
    "    elif(X == 2):\n",
    "        col = 'product_url'\n",
    "    elif(X == 3):\n",
    "        col = 'product_name'\n",
    "    elif(X == 4):\n",
    "        col = 'pid'\n",
    "    elif(X == 5):\n",
    "        col = 'brand'\n",
    "    \n",
    "    # Making a dataframe with speicfic column details\n",
    "    df = flipkart_df[flipkart_df[col] == Y]\n",
    "    \n",
    "    # Making a new dataframe and storing the columns to be displayed\n",
    "    fpk_df = pd.DataFrame()\n",
    "    fpk_df['uniq_id'] = df['uniq_id']\n",
    "    fpk_df['Product name in flipkart'] = df['product_name']\n",
    "    fpk_df['Retail price in flipkart'] =df['retail_price']\n",
    "    fpk_df['Discounted price in flipkart'] = df['discounted_price']\n",
    "\n",
    "    # Making another dataframe with speicfic column details\n",
    "    df1 = amazon_df[amazon_df[col] == Y]\n",
    "    \n",
    "    # Making a new dataframe and storing the columns to be displayed\n",
    "    amzn_df = pd.DataFrame()\n",
    "    amzn_df['uniq_id'] = df1['uniq_id']\n",
    "    amzn_df['Product name in amazon'] = df1['product_name']\n",
    "    amzn_df['Retail price in amazon'] = df1['retail_price']\n",
    "    amzn_df['Discounted price in amazon'] = df1['discounted_price']\n",
    "\n",
    "    if(df.shape[0] == 0 and df1.shape[0] == 0):\n",
    "        print(\"The product you are searching for is not available or you have entered invalid product details\")\n",
    "    else:\n",
    "        return(pd.merge(fpk_df,amzn_df,how = 'outer',on = 'uniq_id'))"
   ]
  },
  {
   "cell_type": "code",
   "execution_count": 7,
   "id": "74ae1905",
   "metadata": {},
   "outputs": [
    {
     "name": "stdout",
     "output_type": "stream",
     "text": [
      "SELECT THE NUMBER OF PRODUCT DETAIL YOU WANT TO SEACRH THE PRODUCTS WITH\n",
      "\n",
      "    ENTER 1 TO SEARCH PRODUCTS WITH 'uniq_id'\n",
      "\n",
      "    ENTER 2 TO SEARCH PRODUCTS WITH 'product_url'\n",
      "\n",
      "    ENTER 3 TO SEARCH PRODUCTS WITH 'product_name'\n",
      "\n",
      "    ENTER 4 TO SEARCH PRODUCTS WITH 'pid'\n",
      "\n",
      "    ENTER 5 TO SEARCH PRODUCTS WITH 'brand'\n",
      "    \n",
      "kish\n",
      "Please enter integer number between 1 to 5\n"
     ]
    }
   ],
   "source": [
    "try:\n",
    "    print('''SELECT THE NUMBER OF PRODUCT DETAIL YOU WANT TO SEACRH THE PRODUCTS WITH\\n\n",
    "    ENTER 1 TO SEARCH PRODUCTS WITH 'uniq_id'\\n\n",
    "    ENTER 2 TO SEARCH PRODUCTS WITH 'product_url'\\n\n",
    "    ENTER 3 TO SEARCH PRODUCTS WITH 'product_name'\\n\n",
    "    ENTER 4 TO SEARCH PRODUCTS WITH 'pid'\\n\n",
    "    ENTER 5 TO SEARCH PRODUCTS WITH 'brand'\n",
    "    ''')\n",
    "    a= int(input())\n",
    "    if(a == 1):\n",
    "        b = input(\"Enter unique id: \")\n",
    "    elif(a == 2):\n",
    "        b = input(\"Enter product url: \")\n",
    "    elif(a == 3):\n",
    "        b = input(\"Enter product name: \")\n",
    "    elif(a == 4):\n",
    "        b = input(\"Enter product id: \")\n",
    "    elif(a == 5):\n",
    "        b = input(\"Enter brand name: \")\n",
    "    else:\n",
    "        print(\"Select a valid number\")\n",
    "except:\n",
    "    print(\"Please enter integer number between 1 to 5\")"
   ]
  },
  {
   "cell_type": "code",
   "execution_count": null,
   "id": "b9be82fc",
   "metadata": {},
   "outputs": [],
   "source": [
    "df_contcat(a,b)"
   ]
  },
  {
   "cell_type": "code",
   "execution_count": null,
   "id": "3476607c",
   "metadata": {},
   "outputs": [],
   "source": []
  }
 ],
 "metadata": {
  "kernelspec": {
   "display_name": "Python 3 (ipykernel)",
   "language": "python",
   "name": "python3"
  },
  "language_info": {
   "codemirror_mode": {
    "name": "ipython",
    "version": 3
   },
   "file_extension": ".py",
   "mimetype": "text/x-python",
   "name": "python",
   "nbconvert_exporter": "python",
   "pygments_lexer": "ipython3",
   "version": "3.9.12"
  }
 },
 "nbformat": 4,
 "nbformat_minor": 5
}
